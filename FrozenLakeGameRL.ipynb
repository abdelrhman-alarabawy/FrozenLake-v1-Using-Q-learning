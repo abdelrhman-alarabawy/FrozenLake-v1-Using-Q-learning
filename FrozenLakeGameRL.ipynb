{
 "cells": [
  {
   "cell_type": "markdown",
   "id": "00af8511",
   "metadata": {},
   "source": [
    "# Import Important Liberaries"
   ]
  },
  {
   "cell_type": "code",
   "execution_count": 15,
   "id": "5e1abf52",
   "metadata": {},
   "outputs": [],
   "source": [
    "import gym\n",
    "import numpy as np\n",
    "import matplotlib.pyplot as plt"
   ]
  },
  {
   "cell_type": "markdown",
   "id": "dc89fcd0",
   "metadata": {},
   "source": [
    "# Understand The enviroment"
   ]
  },
  {
   "cell_type": "code",
   "execution_count": 16,
   "id": "d9a5f655",
   "metadata": {},
   "outputs": [],
   "source": [
    "env  = gym.make(\"FrozenLake-v1\",is_slippery = False)"
   ]
  },
  {
   "cell_type": "code",
   "execution_count": 17,
   "id": "ff8a482c",
   "metadata": {},
   "outputs": [
    {
     "name": "stdout",
     "output_type": "stream",
     "text": [
      "Help on TimeLimit in module gym.wrappers.time_limit object:\n",
      "\n",
      "class TimeLimit(gym.core.Wrapper)\n",
      " |  TimeLimit(*args, **kwds)\n",
      " |  \n",
      " |  This wrapper will issue a `truncated` signal if a maximum number of timesteps is exceeded.\n",
      " |  \n",
      " |  If a truncation is not defined inside the environment itself, this is the only place that the truncation signal is issued.\n",
      " |  Critically, this is different from the `terminated` signal that originates from the underlying environment as part of the MDP.\n",
      " |  \n",
      " |  Example:\n",
      " |     >>> from gym.envs.classic_control import CartPoleEnv\n",
      " |     >>> from gym.wrappers import TimeLimit\n",
      " |     >>> env = CartPoleEnv()\n",
      " |     >>> env = TimeLimit(env, max_episode_steps=1000)\n",
      " |  \n",
      " |  Method resolution order:\n",
      " |      TimeLimit\n",
      " |      gym.core.Wrapper\n",
      " |      gym.core.Env\n",
      " |      typing.Generic\n",
      " |      builtins.object\n",
      " |  \n",
      " |  Methods defined here:\n",
      " |  \n",
      " |  __init__(self, env: gym.core.Env, max_episode_steps: Union[int, NoneType] = None)\n",
      " |      Initializes the :class:`TimeLimit` wrapper with an environment and the number of steps after which truncation will occur.\n",
      " |      \n",
      " |      Args:\n",
      " |          env: The environment to apply the wrapper\n",
      " |          max_episode_steps: An optional max episode steps (if ``Ǹone``, ``env.spec.max_episode_steps`` is used)\n",
      " |  \n",
      " |  reset(self, **kwargs)\n",
      " |      Resets the environment with :param:`**kwargs` and sets the number of steps elapsed to zero.\n",
      " |      \n",
      " |      Args:\n",
      " |          **kwargs: The kwargs to reset the environment with\n",
      " |      \n",
      " |      Returns:\n",
      " |          The reset environment\n",
      " |  \n",
      " |  step(self, action)\n",
      " |      Steps through the environment and if the number of steps elapsed exceeds ``max_episode_steps`` then truncate.\n",
      " |      \n",
      " |      Args:\n",
      " |          action: The environment step action\n",
      " |      \n",
      " |      Returns:\n",
      " |          The environment step ``(observation, reward, terminated, truncated, info)`` with `truncated=True`\n",
      " |          if the number of steps elapsed >= max episode steps\n",
      " |  \n",
      " |  ----------------------------------------------------------------------\n",
      " |  Data and other attributes defined here:\n",
      " |  \n",
      " |  __parameters__ = ()\n",
      " |  \n",
      " |  ----------------------------------------------------------------------\n",
      " |  Methods inherited from gym.core.Wrapper:\n",
      " |  \n",
      " |  __getattr__(self, name)\n",
      " |      Returns an attribute with ``name``, unless ``name`` starts with an underscore.\n",
      " |  \n",
      " |  __repr__(self)\n",
      " |      Returns the string representation of the wrapper.\n",
      " |  \n",
      " |  __str__(self)\n",
      " |      Returns the wrapper name and the unwrapped environment string.\n",
      " |  \n",
      " |  close(self)\n",
      " |      Closes the environment.\n",
      " |  \n",
      " |  render(self, *args, **kwargs) -> Union[~RenderFrame, List[~RenderFrame], NoneType]\n",
      " |      Renders the environment.\n",
      " |  \n",
      " |  ----------------------------------------------------------------------\n",
      " |  Class methods inherited from gym.core.Wrapper:\n",
      " |  \n",
      " |  class_name() from builtins.type\n",
      " |      Returns the class name of the wrapper.\n",
      " |  \n",
      " |  ----------------------------------------------------------------------\n",
      " |  Readonly properties inherited from gym.core.Wrapper:\n",
      " |  \n",
      " |  render_mode\n",
      " |      Returns the environment render_mode.\n",
      " |  \n",
      " |  spec\n",
      " |      Returns the environment specification.\n",
      " |  \n",
      " |  unwrapped\n",
      " |      Returns the base environment of the wrapper.\n",
      " |  \n",
      " |  ----------------------------------------------------------------------\n",
      " |  Data descriptors inherited from gym.core.Wrapper:\n",
      " |  \n",
      " |  action_space\n",
      " |      Returns the action space of the environment.\n",
      " |  \n",
      " |  metadata\n",
      " |      Returns the environment metadata.\n",
      " |  \n",
      " |  np_random\n",
      " |      Returns the environment np_random.\n",
      " |  \n",
      " |  observation_space\n",
      " |      Returns the observation space of the environment.\n",
      " |  \n",
      " |  reward_range\n",
      " |      Return the reward range of the environment.\n",
      " |  \n",
      " |  ----------------------------------------------------------------------\n",
      " |  Data and other attributes inherited from gym.core.Wrapper:\n",
      " |  \n",
      " |  __orig_bases__ = (gym.core.Env[~ObsType, ~ActType],)\n",
      " |  \n",
      " |  ----------------------------------------------------------------------\n",
      " |  Methods inherited from gym.core.Env:\n",
      " |  \n",
      " |  __enter__(self)\n",
      " |      Support with-statement for the environment.\n",
      " |  \n",
      " |  __exit__(self, *args)\n",
      " |      Support with-statement for the environment.\n",
      " |  \n",
      " |  ----------------------------------------------------------------------\n",
      " |  Data descriptors inherited from gym.core.Env:\n",
      " |  \n",
      " |  __dict__\n",
      " |      dictionary for instance variables (if defined)\n",
      " |  \n",
      " |  __weakref__\n",
      " |      list of weak references to the object (if defined)\n",
      " |  \n",
      " |  ----------------------------------------------------------------------\n",
      " |  Data and other attributes inherited from gym.core.Env:\n",
      " |  \n",
      " |  __annotations__ = {'_np_random': typing.Union[numpy.random._generator....\n",
      " |  \n",
      " |  ----------------------------------------------------------------------\n",
      " |  Class methods inherited from typing.Generic:\n",
      " |  \n",
      " |  __class_getitem__(params) from builtins.type\n",
      " |  \n",
      " |  __init_subclass__(*args, **kwargs) from builtins.type\n",
      " |      This method is called when a class is subclassed.\n",
      " |      \n",
      " |      The default implementation does nothing. It may be\n",
      " |      overridden to extend subclasses.\n",
      " |  \n",
      " |  ----------------------------------------------------------------------\n",
      " |  Static methods inherited from typing.Generic:\n",
      " |  \n",
      " |  __new__(cls, *args, **kwds)\n",
      " |      Create and return a new object.  See help(type) for accurate signature.\n",
      "\n"
     ]
    }
   ],
   "source": [
    "help(env)"
   ]
  },
  {
   "cell_type": "code",
   "execution_count": 18,
   "id": "a27cd99f",
   "metadata": {},
   "outputs": [
    {
     "name": "stdout",
     "output_type": "stream",
     "text": [
      "4 0.0 False False\n"
     ]
    },
    {
     "name": "stderr",
     "output_type": "stream",
     "text": [
      "C:\\Users\\abdelrhman\\anaconda3\\lib\\site-packages\\gym\\utils\\passive_env_checker.py:233: DeprecationWarning: `np.bool8` is a deprecated alias for `np.bool_`.  (Deprecated NumPy 1.24)\n",
      "  if not isinstance(terminated, (bool, np.bool8)):\n"
     ]
    }
   ],
   "source": [
    "action = env.action_space.sample()\n",
    "env.observation_space\n",
    "env.reset()\n",
    "step,reward,terminated,truncated,_ = env.step(action)\n",
    "print(step,reward,terminated,truncated)"
   ]
  },
  {
   "cell_type": "code",
   "execution_count": 8,
   "id": "6a8748a5",
   "metadata": {
    "collapsed": true
   },
   "outputs": [
    {
     "name": "stdout",
     "output_type": "stream",
     "text": [
      "0 0.0 False False\n",
      "1 0.0 False False\n",
      "2 0.0 False False\n",
      "6 0.0 False False\n",
      "7 0.0 True False\n",
      "1 0.0 False False\n",
      "0 0.0 False False\n",
      "0 0.0 False False\n",
      "4 0.0 False False\n",
      "0 0.0 False False\n",
      "1 0.0 False False\n",
      "5 0.0 True False\n",
      "0 0.0 False False\n",
      "4 0.0 False False\n",
      "4 0.0 False False\n",
      "0 0.0 False False\n",
      "1 0.0 False False\n",
      "0 0.0 False False\n",
      "1 0.0 False False\n",
      "1 0.0 False False\n"
     ]
    }
   ],
   "source": [
    "env.reset()\n",
    "for i in range(20):\n",
    "    \n",
    "    action = env.action_space.sample()\n",
    "    newstate,reward,terminated,truncated,_ = env.step(action)\n",
    "    print(newstate,reward,terminated,truncated)\n",
    "    if terminated:\n",
    "        env.reset()\n",
    "    state = newstate\n",
    "env.close()"
   ]
  },
  {
   "cell_type": "markdown",
   "id": "608cd9fa",
   "metadata": {},
   "source": [
    "# Q_learning Training"
   ]
  },
  {
   "cell_type": "markdown",
   "id": "07564de5",
   "metadata": {},
   "source": [
    "## Setting up the parameter"
   ]
  },
  {
   "cell_type": "code",
   "execution_count": 19,
   "id": "a93dacc0",
   "metadata": {},
   "outputs": [],
   "source": [
    "episodes = 16000\n",
    "epsilon = 1\n",
    "epsilon_decay = 0.0001\n",
    "learning_rate = 0.9\n",
    "discount_factor = 0.9\n",
    "rewardEpisodes = np.zeros(episodes)\n",
    "q_table = np.zeros((env.observation_space.n,env.action_space.n))\n"
   ]
  },
  {
   "cell_type": "markdown",
   "id": "80cd130a",
   "metadata": {},
   "source": [
    "## Q-Learning Training [preparing Q_table]"
   ]
  },
  {
   "cell_type": "code",
   "execution_count": 20,
   "id": "6db22589",
   "metadata": {
    "scrolled": true
   },
   "outputs": [
    {
     "name": "stdout",
     "output_type": "stream",
     "text": [
      "Q_table after Training\n",
      "left       down       right        up     \n",
      "[[0.531441 0.59049  0.59049  0.531441]\n",
      " [0.531441 0.       0.6561   0.59049 ]\n",
      " [0.59049  0.729    0.59049  0.6561  ]\n",
      " [0.6561   0.       0.59049  0.59049 ]\n",
      " [0.59049  0.6561   0.       0.531441]\n",
      " [0.       0.       0.       0.      ]\n",
      " [0.       0.81     0.       0.6561  ]\n",
      " [0.       0.       0.       0.      ]\n",
      " [0.6561   0.       0.729    0.59049 ]\n",
      " [0.6561   0.81     0.81     0.      ]\n",
      " [0.729    0.9      0.       0.729   ]\n",
      " [0.       0.       0.       0.      ]\n",
      " [0.       0.       0.       0.      ]\n",
      " [0.       0.81     0.9      0.729   ]\n",
      " [0.81     0.9      1.       0.81    ]\n",
      " [0.       0.       0.       0.      ]]\n"
     ]
    }
   ],
   "source": [
    "for i in range(episodes):\n",
    "    state = env.reset()[0]\n",
    "    terminated = False\n",
    "    truncated  = False\n",
    "    while (not terminated  and not truncated):\n",
    "        if np.random.random() < epsilon:\n",
    "            action = env.action_space.sample()\n",
    "        else:\n",
    "            action = np.argmax(q_table[state,:])\n",
    "        newstate,reward,terminated,truncated,_ = env.step(action)\n",
    "        q_table[state,action] = (1-learning_rate)*q_table[state,action] + learning_rate*(\n",
    "            reward + discount_factor*np.max(q_table[newstate,:]))\n",
    "        state = newstate\n",
    "        \n",
    "    epsilon = max(epsilon - epsilon_decay,0)   \n",
    "    if epsilon == 0:\n",
    "        learning_rate = 0.0001\n",
    "    if reward == 1:\n",
    "        rewardEpisodes[i] = 1 \n",
    "# env.close()   \n",
    "print(\"Q_table after Training\")\n",
    "print(\"left      \",\"down      \",\"right       \",\"up     \")\n",
    "print(q_table)        \n",
    "        "
   ]
  },
  {
   "cell_type": "markdown",
   "id": "d6941f9e",
   "metadata": {},
   "source": [
    "# Testing the agent after training"
   ]
  },
  {
   "cell_type": "code",
   "execution_count": 21,
   "id": "e5669f7b",
   "metadata": {},
   "outputs": [],
   "source": [
    "env  = gym.make(\"FrozenLake-v1\",is_slippery = False,render_mode = 'human')"
   ]
  },
  {
   "cell_type": "code",
   "execution_count": 23,
   "id": "13014421",
   "metadata": {},
   "outputs": [],
   "source": [
    "for i in range(20):\n",
    "    state = env.reset()[0]\n",
    "    terminated = False\n",
    "    truncated  = False\n",
    "    while (not terminated  and not truncated):\n",
    "        action = np.argmax(q_table[state,:])\n",
    "        newstate,reward,terminated,truncated,_ = env.step(action)\n",
    "        state = newstate\n",
    "\n",
    "env.close()        "
   ]
  },
  {
   "cell_type": "code",
   "execution_count": 41,
   "id": "f1b930d8",
   "metadata": {},
   "outputs": [],
   "source": [
    "env.close()"
   ]
  },
  {
   "cell_type": "code",
   "execution_count": null,
   "id": "4c8bdebd",
   "metadata": {},
   "outputs": [],
   "source": []
  }
 ],
 "metadata": {
  "kernelspec": {
   "display_name": "Python 3 (ipykernel)",
   "language": "python",
   "name": "python3"
  },
  "language_info": {
   "codemirror_mode": {
    "name": "ipython",
    "version": 3
   },
   "file_extension": ".py",
   "mimetype": "text/x-python",
   "name": "python",
   "nbconvert_exporter": "python",
   "pygments_lexer": "ipython3",
   "version": "3.8.8"
  }
 },
 "nbformat": 4,
 "nbformat_minor": 5
}
